{
 "cells": [
  {
   "cell_type": "code",
   "execution_count": 2,
   "metadata": {},
   "outputs": [
    {
     "name": "stdout",
     "output_type": "stream",
     "text": [
      "Example 1:\n",
      "\n",
      "Input: \"()\"\n",
      "Output: true\n",
      "\n",
      "Example 2:\n",
      "\n",
      "Input: \"()[]{}\"\n",
      "Output: true\n",
      "\n",
      "Example 3:\n",
      "\n",
      "Input: \"(]\"\n",
      "Output: false\n",
      "\n",
      "Example 4:\n",
      "\n",
      "Input: \"([)]\"\n",
      "Output: false\n",
      "\n",
      "Example 5:\n",
      "\n",
      "Input: \"{[]}\"\n",
      "Output: true\n",
      "\n",
      "Example 6:\n",
      "\n",
      "Input: \"\"\n",
      "Output: true\n"
     ]
    }
   ],
   "source": [
    "bracketStartList = [\"[\",\"{\",\"(\"] \n",
    "bracketEndList = [\"]\",\"}\",\")\"] \n",
    "\n",
    "\n",
    "def bracketAnalysis(sampleStr): \n",
    "    resultList = [] \n",
    "    for i in sampleStr: \n",
    "        if i in bracketStartList: \n",
    "            resultList.append(i)\n",
    "        elif i in bracketEndList: \n",
    "            pos = bracketEndList.index(i) \n",
    "            if ((len(resultList) > 0) and\n",
    "                (bracketStartList[pos] == resultList[len(resultList)-1])): \n",
    "                resultList.pop() \n",
    "            else: \n",
    "                return \"false\"\n",
    "    if len(resultList) == 0: \n",
    "        return \"true\"\n",
    "    \n",
    "print('Example 1:\\n')\n",
    "string = \"\\\"()\\\"\"\n",
    "print('Input:', string) \n",
    "print('Output:', bracketAnalysis(string))\n",
    "\n",
    "print('\\nExample 2:\\n')\n",
    "string = \"\\\"()[]{}\\\"\"\n",
    "print('Input:', string) \n",
    "print('Output:', bracketAnalysis(string)) \n",
    "\n",
    "print('\\nExample 3:\\n')\n",
    "string = \"\\\"(]\\\"\"\n",
    "print('Input:', string) \n",
    "print('Output:', bracketAnalysis(string)) \n",
    "\n",
    "print('\\nExample 4:\\n')\n",
    "string = \"\\\"([)]\\\"\"\n",
    "print('Input:', string) \n",
    "print('Output:', bracketAnalysis(string)) \n",
    "\n",
    "print('\\nExample 5:\\n')\n",
    "string = \"\\\"{[]}\\\"\"\n",
    "print('Input:', string) \n",
    "print('Output:', bracketAnalysis(string))\n",
    "\n",
    "print('\\nExample 6:\\n')\n",
    "string = \"\\\"\\\"\"\n",
    "print('Input:', string) \n",
    "print('Output:', bracketAnalysis(string)) "
   ]
  }
 ],
 "metadata": {
  "kernelspec": {
   "display_name": "Python 3",
   "language": "python",
   "name": "python3"
  },
  "language_info": {
   "codemirror_mode": {
    "name": "ipython",
    "version": 3
   },
   "file_extension": ".py",
   "mimetype": "text/x-python",
   "name": "python",
   "nbconvert_exporter": "python",
   "pygments_lexer": "ipython3",
   "version": "3.6.6"
  },
  "toc": {
   "base_numbering": 1,
   "nav_menu": {},
   "number_sections": true,
   "sideBar": true,
   "skip_h1_title": false,
   "title_cell": "Table of Contents",
   "title_sidebar": "Contents",
   "toc_cell": false,
   "toc_position": {},
   "toc_section_display": true,
   "toc_window_display": false
  },
  "varInspector": {
   "cols": {
    "lenName": 16,
    "lenType": 16,
    "lenVar": 40
   },
   "kernels_config": {
    "python": {
     "delete_cmd_postfix": "",
     "delete_cmd_prefix": "del ",
     "library": "var_list.py",
     "varRefreshCmd": "print(var_dic_list())"
    },
    "r": {
     "delete_cmd_postfix": ") ",
     "delete_cmd_prefix": "rm(",
     "library": "var_list.r",
     "varRefreshCmd": "cat(var_dic_list()) "
    }
   },
   "types_to_exclude": [
    "module",
    "function",
    "builtin_function_or_method",
    "instance",
    "_Feature"
   ],
   "window_display": false
  }
 },
 "nbformat": 4,
 "nbformat_minor": 2
}
